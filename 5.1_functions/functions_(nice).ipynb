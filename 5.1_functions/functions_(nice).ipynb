{
 "cells": [
  {
   "attachments": {},
   "cell_type": "markdown",
   "id": "123456",
   "metadata": {},
   "source": [
    "<div style=\"text-align:left;font-size:2em\"><span style=\"font-weight:bolder;font-size:1.25em\">SP2273 | Learning Portfolio</span><br><br><span style=\"font-weight:bold;color:darkred\">Functions (Nice)</span></div>"
   ]
  },
  {
   "cell_type": "code",
   "execution_count": 9,
   "id": "634bfe17-4e1d-4598-b388-e7d20be72afe",
   "metadata": {},
   "outputs": [],
   "source": [
    "import numpy as np"
   ]
  },
  {
   "attachments": {},
   "cell_type": "markdown",
   "id": "a8bf4079",
   "metadata": {},
   "source": [
    "# 1 Modularise and reuse"
   ]
  },
  {
   "attachments": {},
   "cell_type": "markdown",
   "id": "2f3457d4",
   "metadata": {},
   "source": [
    "# 2 The many ways to pass arguments"
   ]
  },
  {
   "attachments": {},
   "cell_type": "markdown",
   "id": "6c0b6e7c",
   "metadata": {},
   "source": [
    "## 2.1 *args & **kwarg"
   ]
  },
  {
   "attachments": {},
   "cell_type": "markdown",
   "id": "99ad16b8",
   "metadata": {},
   "source": [
    "### *args"
   ]
  },
  {
   "cell_type": "code",
   "execution_count": 2,
   "id": "87764ab5",
   "metadata": {},
   "outputs": [
    {
     "data": {
      "text/plain": [
       "2"
      ]
     },
     "execution_count": 2,
     "metadata": {},
     "output_type": "execute_result"
    }
   ],
   "source": [
    "def multiply(x, y):\n",
    "    return x * y\n",
    "\n",
    "numbers = [1, 2]\n",
    "multiply(*numbers)"
   ]
  },
  {
   "cell_type": "code",
   "execution_count": 3,
   "id": "1419dec1-7967-4ae0-bdfc-c24e84785995",
   "metadata": {},
   "outputs": [
    {
     "data": {
      "text/plain": [
       "120"
      ]
     },
     "execution_count": 3,
     "metadata": {},
     "output_type": "execute_result"
    }
   ],
   "source": [
    "def multiply(*args):\n",
    "    result = 1\n",
    "    for number in args:\n",
    "        result *= number\n",
    "\n",
    "    return result\n",
    "\n",
    "numbers = [1, 2, 3]\n",
    "multiply(*numbers)\n",
    "multiply(1, 2, 3, 4, 5)"
   ]
  },
  {
   "attachments": {},
   "cell_type": "markdown",
   "id": "61f05c0c",
   "metadata": {},
   "source": [
    "### **kwargs"
   ]
  },
  {
   "cell_type": "code",
   "execution_count": 4,
   "id": "278d8919",
   "metadata": {},
   "outputs": [
    {
     "data": {
      "text/plain": [
       "6"
      ]
     },
     "execution_count": 4,
     "metadata": {},
     "output_type": "execute_result"
    }
   ],
   "source": [
    "def multiply(x, y, z):\n",
    "    return x * y * z\n",
    "\n",
    "# Let's use the function\n",
    "numbers = {'x': 1, 'y': 2, 'z': 3}\n",
    "multiply(**numbers)"
   ]
  },
  {
   "cell_type": "code",
   "execution_count": 5,
   "id": "e9981e43-52d8-4b1c-8e7e-8916dabe2bc8",
   "metadata": {},
   "outputs": [
    {
     "data": {
      "text/plain": [
       "6"
      ]
     },
     "execution_count": 5,
     "metadata": {},
     "output_type": "execute_result"
    }
   ],
   "source": [
    "def multiply(x, y, z):\n",
    "    return x * y * z\n",
    "\n",
    "# Let's use the function\n",
    "numbers = {'y': 2, 'z': 3}\n",
    "multiply(1, **numbers)"
   ]
  },
  {
   "cell_type": "code",
   "execution_count": 6,
   "id": "95c3b914-9521-4517-a1fa-4bd3df88f6ed",
   "metadata": {},
   "outputs": [
    {
     "data": {
      "text/plain": [
       "14"
      ]
     },
     "execution_count": 6,
     "metadata": {},
     "output_type": "execute_result"
    }
   ],
   "source": [
    "def add_powers(numbers, power):\n",
    "    result = 0\n",
    "    for number in numbers:\n",
    "        result += number**power\n",
    "\n",
    "    return result\n",
    "\n",
    "# Let's use the function\n",
    "kwargs = {'numbers': [1, 2, 3], 'power': 2}\n",
    "add_powers(**kwargs)"
   ]
  },
  {
   "cell_type": "code",
   "execution_count": 7,
   "id": "18a20ac2-dd35-4b5a-b346-79d1b9540a98",
   "metadata": {},
   "outputs": [
    {
     "data": {
      "text/plain": [
       "14"
      ]
     },
     "execution_count": 7,
     "metadata": {},
     "output_type": "execute_result"
    }
   ],
   "source": [
    "def add_powers(**kwargs):\n",
    "    numbers = kwargs['numbers']\n",
    "    power = kwargs['power']\n",
    "\n",
    "    result = 0\n",
    "    for number in numbers:\n",
    "        result += number**power\n",
    "\n",
    "    return result\n",
    "\n",
    "\n",
    "# Let's use the function\n",
    "add_powers(numbers=[1, 2, 3], power=2)\n",
    "kwargs = {'numbers': [1, 2, 3], 'power': 2}\n",
    "add_powers(**kwargs)"
   ]
  },
  {
   "attachments": {},
   "cell_type": "markdown",
   "id": "f7653414",
   "metadata": {},
   "source": [
    "# 3 Gotchas with passing variables to functions"
   ]
  },
  {
   "attachments": {},
   "cell_type": "markdown",
   "id": "b92b4870",
   "metadata": {},
   "source": [
    "## 3.1 The Problem"
   ]
  },
  {
   "cell_type": "code",
   "execution_count": 10,
   "id": "832a51c3-81e4-4a57-ad08-1478edd81bbe",
   "metadata": {},
   "outputs": [
    {
     "name": "stdout",
     "output_type": "stream",
     "text": [
      "BEFORE|\tNumber: 10(id: 4316588680), Array: [10](id: 4378595408), List: [10](id: 4380203712)\n",
      "Doing something!\n",
      "INSIDE|\tNumber: 20(id: 4316589000), Array: [20](id: 4378595408), List: [10, 10](id: 4380203712)\n",
      "AFTER|\tNumber: 10(id: 4316588680), Array: [20](id: 4378595408), List: [10, 10](id: 4380203712)\n"
     ]
    }
   ],
   "source": [
    "def do_something(inside_number, inside_array, inside_list):\n",
    "    print('Doing something!')\n",
    "    inside_number *= 2\n",
    "    inside_array *= 2\n",
    "    inside_list *= 2\n",
    "\n",
    "    print(f\"INSIDE|\\tNumber: {inside_number}(id: {id(inside_number)}), Array: {inside_array}(id: {id(inside_array)}), List: {inside_list}(id: {id(inside_list)})\")\n",
    "\n",
    "outside_number = 10\n",
    "outside_array = np.array([10])\n",
    "outside_list = [10]\n",
    "\n",
    "print(f\"BEFORE|\\tNumber: {outside_number}(id: {id(outside_number)}), Array: {outside_array}(id: {id(outside_array)}), List: {outside_list}(id: {id(outside_list)})\")\n",
    "do_something(outside_number, outside_array, outside_list)\n",
    "print(f\"AFTER|\\tNumber: {outside_number}(id: {id(outside_number)}), Array: {outside_array}(id: {id(outside_array)}), List: {outside_list}(id: {id(outside_list)})\")"
   ]
  },
  {
   "attachments": {},
   "cell_type": "markdown",
   "id": "63a15673",
   "metadata": {},
   "source": [
    "## 3.2 An Explanation"
   ]
  },
  {
   "attachments": {},
   "cell_type": "markdown",
   "id": "a3eb32e2",
   "metadata": {},
   "source": [
    "# 4 There is more to exceptions"
   ]
  },
  {
   "attachments": {},
   "cell_type": "markdown",
   "id": "6789c770",
   "metadata": {},
   "source": [
    "## 4.1 A list of exceptions"
   ]
  },
  {
   "attachments": {},
   "cell_type": "markdown",
   "id": "2f5f1aef",
   "metadata": {},
   "source": [
    "## 4.2 Handling specific exceptions"
   ]
  },
  {
   "cell_type": "code",
   "execution_count": 5,
   "id": "e26eeb67-7f3d-44b2-b688-2bb6b064c152",
   "metadata": {},
   "outputs": [
    {
     "name": "stdin",
     "output_type": "stream",
     "text": [
      "Give me a number and I will calculate its square. hello\n"
     ]
    },
    {
     "name": "stdout",
     "output_type": "stream",
     "text": [
      "Oh oh! I cannot square hello!\n"
     ]
    }
   ],
   "source": [
    "try:\n",
    "    number=input(\"Give me a number and I will calculate its square.\")\n",
    "    square=int(number)**2\n",
    "    print(f'The square of {number} is {square}!')\n",
    "except ValueError:\n",
    "    print(f\"Oh oh! I cannot square {number}!\")"
   ]
  },
  {
   "attachments": {},
   "cell_type": "markdown",
   "id": "054f8f31",
   "metadata": {},
   "source": [
    "## 4.3 try also has an else and finally"
   ]
  },
  {
   "cell_type": "code",
   "execution_count": 12,
   "id": "559dd421-ce14-487a-aafc-e58a3210bbc1",
   "metadata": {},
   "outputs": [
    {
     "name": "stdin",
     "output_type": "stream",
     "text": [
      "Give me a number and I will calculate its square. 1\n"
     ]
    },
    {
     "name": "stdout",
     "output_type": "stream",
     "text": [
      "The square of 1 is 1!\n",
      "Yeah! Things ran without a problem!\n",
      "Okay, looks like everything is done!\n"
     ]
    }
   ],
   "source": [
    "try:\n",
    "    number=input(\"Give me a number and I will calculate its square.\")\n",
    "    square=int(number)**2\n",
    "    print(f'The square of {number} is {square}!')\n",
    "except ValueError:\n",
    "    print(f\"Oh oh! I cannot square {number}!\")\n",
    "else:\n",
    "    print('Yeah! Things ran without a problem!')\n",
    "finally:\n",
    "    print('Okay, looks like everything is done!')"
   ]
  },
  {
   "attachments": {},
   "cell_type": "markdown",
   "id": "b73cdc68",
   "metadata": {},
   "source": [
    "## Footnotes"
   ]
  }
 ],
 "metadata": {
  "kernelspec": {
   "display_name": "Python 3 (ipykernel)",
   "language": "python",
   "name": "python3"
  },
  "language_info": {
   "codemirror_mode": {
    "name": "ipython",
    "version": 3
   },
   "file_extension": ".py",
   "mimetype": "text/x-python",
   "name": "python",
   "nbconvert_exporter": "python",
   "pygments_lexer": "ipython3",
   "version": "3.13.5"
  },
  "toc": {
   "base_numbering": 1,
   "nav_menu": {},
   "number_sections": true,
   "sideBar": true,
   "skip_h1_title": false,
   "title_cell": "Table of Contents",
   "title_sidebar": "Contents",
   "toc_cell": false,
   "toc_position": {},
   "toc_section_display": true,
   "toc_window_display": false
  },
  "vscode": {
   "interpreter": {
    "hash": "31f2aee4e71d21fbe5cf8b01ff0e069b9275f58929596ceb00d14d90e3e16cd6"
   }
  }
 },
 "nbformat": 4,
 "nbformat_minor": 5
}
