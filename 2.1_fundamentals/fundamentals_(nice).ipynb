{
 "cells": [
  {
   "attachments": {},
   "cell_type": "markdown",
   "id": "123456",
   "metadata": {},
   "source": [
    "<div style=\"text-align:left;font-size:2em\"><span style=\"font-weight:bolder;font-size:1.25em\">SP2273 | Learning Portfolio</span><br><br><span style=\"font-weight:bold;color:darkred\">Fundamentals (Nice)</span></div>"
   ]
  },
  {
   "attachments": {},
   "cell_type": "markdown",
   "id": "2e5a8ea0",
   "metadata": {},
   "source": [
    "# 1 If if is not enough"
   ]
  },
  {
   "cell_type": "code",
   "execution_count": 2,
   "id": "014db219-ceb0-4321-af86-7dd19e803a1a",
   "metadata": {},
   "outputs": [
    {
     "name": "stdout",
     "output_type": "stream",
     "text": [
      "Hello Hero | Batman!\n"
     ]
    }
   ],
   "source": [
    "name = 'Batman'\n",
    "\n",
    "match name:\n",
    "    case 'Batman':\n",
    "        print('Hello Hero | Batman!')\n",
    "    case 'Robin':\n",
    "        print('Hello Sidekick | Robin!')\n",
    "    case _:\n",
    "        print('Hello World!')"
   ]
  },
  {
   "attachments": {},
   "cell_type": "markdown",
   "id": "34044290",
   "metadata": {},
   "source": [
    "# 2 Ternary operators or Conditional Statements"
   ]
  },
  {
   "cell_type": "code",
   "execution_count": 5,
   "id": "c9bb7978-ff19-433b-bc70-446afd668004",
   "metadata": {},
   "outputs": [],
   "source": [
    "nationality = 'French'"
   ]
  },
  {
   "cell_type": "code",
   "execution_count": 6,
   "id": "563c23e0-6085-44b8-bf12-09a558083f91",
   "metadata": {},
   "outputs": [],
   "source": [
    "if nationality == 'French':\n",
    "    greeting = 'Bonjour!'\n",
    "else:\n",
    "    greeting = 'Hello!'"
   ]
  },
  {
   "cell_type": "code",
   "execution_count": 9,
   "id": "d58a6927-4a96-4660-9b67-297b7f7720c2",
   "metadata": {},
   "outputs": [],
   "source": [
    "greeting = 'Bonjour!' if nationality == 'French' else 'Hello!'"
   ]
  },
  {
   "cell_type": "code",
   "execution_count": 10,
   "id": "f4ad8c4a-58f0-45e3-b21e-0d3f425e3108",
   "metadata": {},
   "outputs": [
    {
     "data": {
      "text/plain": [
       "'Bonjour!'"
      ]
     },
     "execution_count": 10,
     "metadata": {},
     "output_type": "execute_result"
    }
   ],
   "source": [
    "('Hello!', 'Bonjour!')[nationality == 'French']"
   ]
  },
  {
   "cell_type": "code",
   "execution_count": 11,
   "id": "af87d481-3700-4436-9b37-f27df2ea5a2a",
   "metadata": {},
   "outputs": [
    {
     "data": {
      "text/plain": [
       "'Bonjour!'"
      ]
     },
     "execution_count": 11,
     "metadata": {},
     "output_type": "execute_result"
    }
   ],
   "source": [
    "{False: 'Hello!', True: 'Bonjour!'}[nationality == 'French']"
   ]
  },
  {
   "cell_type": "code",
   "execution_count": 12,
   "id": "c310ef93-55cf-44c9-89a5-0ba45d957bfb",
   "metadata": {},
   "outputs": [],
   "source": [
    "text = None\n",
    "message = text or 'No message!'"
   ]
  },
  {
   "attachments": {},
   "cell_type": "markdown",
   "id": "36f8e96b",
   "metadata": {},
   "source": [
    "# 3 Swapping values"
   ]
  },
  {
   "cell_type": "code",
   "execution_count": 13,
   "id": "3e705b6e-824b-4f14-9a8d-bf77b4e07e64",
   "metadata": {},
   "outputs": [
    {
     "name": "stdout",
     "output_type": "stream",
     "text": [
      "2 1\n"
     ]
    }
   ],
   "source": [
    "a, b = 1, 2\n",
    "a, b = b, a\n",
    "print(a, b)"
   ]
  },
  {
   "attachments": {},
   "cell_type": "markdown",
   "id": "f3c29101",
   "metadata": {},
   "source": [
    "# 4 There are more types"
   ]
  },
  {
   "cell_type": "code",
   "execution_count": 1,
   "id": "eec0ef95-b392-4f42-a15c-be1966b69e5e",
   "metadata": {},
   "outputs": [
    {
     "name": "stdout",
     "output_type": "stream",
     "text": [
      "The history saving thread hit an unexpected error (OperationalError('attempt to write a readonly database')).History will not be written to the database.\n",
      "float           2.220446049250313e-16\n",
      "float16         0.000977\n",
      "float32         1.1920929e-07\n",
      "float64         2.220446049250313e-16\n"
     ]
    }
   ],
   "source": [
    "import numpy as np\n",
    "my_types = [\n",
    "    float,       # Default for core on my machine\n",
    "    np.float16,\n",
    "    np.float32,\n",
    "    np.float64\n",
    "    #np.float128 # Not available on my Mac :(\n",
    "                 # But works on a Linux OS!\n",
    "]\n",
    "\n",
    "for my_type in my_types:\n",
    "    print(f'{my_type.__name__:<15s}', np.finfo(my_type).eps)"
   ]
  },
  {
   "attachments": {},
   "cell_type": "markdown",
   "id": "7cf019af",
   "metadata": {},
   "source": [
    "# 5 Operator precedance"
   ]
  },
  {
   "attachments": {},
   "cell_type": "markdown",
   "id": "681eb9de",
   "metadata": {},
   "source": [
    "# 6 Variables in Python are just names"
   ]
  },
  {
   "attachments": {},
   "cell_type": "markdown",
   "id": "5825d19a",
   "metadata": {},
   "source": [
    "## 6.1 The Problem"
   ]
  },
  {
   "cell_type": "code",
   "execution_count": 18,
   "id": "8ac400c6-b2af-4b01-b3ae-3388b1b5bc47",
   "metadata": {},
   "outputs": [
    {
     "name": "stdout",
     "output_type": "stream",
     "text": [
      "x: [1, 2, 3], y: [1, 2, 3]\n"
     ]
    }
   ],
   "source": [
    "x = [1, 2]\n",
    "y = x\n",
    "y.append(3)\n",
    "\n",
    "print(f'x: {x}, y: {y}')"
   ]
  },
  {
   "attachments": {},
   "cell_type": "markdown",
   "id": "1acb8aa8",
   "metadata": {},
   "source": [
    "## 6.2 An explanation"
   ]
  },
  {
   "cell_type": "code",
   "execution_count": 19,
   "id": "0b31749c-f87e-4700-aaf0-dbdf557bc927",
   "metadata": {},
   "outputs": [
    {
     "data": {
      "text/plain": [
       "'CODE 1'"
      ]
     },
     "execution_count": 19,
     "metadata": {},
     "output_type": "execute_result"
    }
   ],
   "source": [
    "'''CODE 1'''"
   ]
  },
  {
   "cell_type": "code",
   "execution_count": 20,
   "id": "2685b553-85ad-4989-abf4-fbba29217522",
   "metadata": {},
   "outputs": [
    {
     "name": "stdout",
     "output_type": "stream",
     "text": [
      "x: 4376570216, y: 4376570216, 1: 4376570216\n"
     ]
    }
   ],
   "source": [
    "x = 1\n",
    "y = 1\n",
    "\n",
    "print(f'x: {id(x)}, y: {id(y)}, 1: {id(1)}')"
   ]
  },
  {
   "cell_type": "code",
   "execution_count": 21,
   "id": "a3a04c1c-a28d-4b86-b2e5-39657c327edb",
   "metadata": {},
   "outputs": [
    {
     "data": {
      "text/plain": [
       "'CODE 2'"
      ]
     },
     "execution_count": 21,
     "metadata": {},
     "output_type": "execute_result"
    }
   ],
   "source": [
    "'''CODE 2'''"
   ]
  },
  {
   "cell_type": "code",
   "execution_count": 22,
   "id": "4efa95de-6b7d-4d81-bcc0-409efee95d09",
   "metadata": {},
   "outputs": [
    {
     "name": "stdout",
     "output_type": "stream",
     "text": [
      "x: 4376570216, y: 4376570248\n"
     ]
    }
   ],
   "source": [
    "x = 1\n",
    "y = x + 1\n",
    "\n",
    "print(f'x: {id(x)}, y: {id(y)}')"
   ]
  },
  {
   "cell_type": "code",
   "execution_count": 23,
   "id": "e8d31bad-2598-4f68-bc26-a3222c7814b7",
   "metadata": {},
   "outputs": [
    {
     "name": "stdout",
     "output_type": "stream",
     "text": [
      "1: 4376570216, 2: 4376570248\n"
     ]
    }
   ],
   "source": [
    "print(f'1: {id(1)}, 2: {id(2)}')"
   ]
  },
  {
   "cell_type": "code",
   "execution_count": 2,
   "id": "0d4dc9b9-6b2b-4925-9391-3d3baedf3f76",
   "metadata": {},
   "outputs": [],
   "source": [
    "# x is bound to a list object with a value [1, 2]\n",
    "x = [1, 2]\n",
    "\n",
    "# y is bound to the SAME list object with a value [1, 2]\n",
    "y = x\n",
    "\n",
    "# y is used to change the value of the object from [1, 2] to [1, 2, 3]\n",
    "y.append(3)"
   ]
  },
  {
   "attachments": {},
   "cell_type": "markdown",
   "id": "6f9b1436",
   "metadata": {},
   "source": [
    "## 6.3 A solution"
   ]
  },
  {
   "cell_type": "code",
   "execution_count": 24,
   "id": "dd9f0492-f979-44c7-b137-8941d5e0cf9b",
   "metadata": {},
   "outputs": [
    {
     "name": "stdout",
     "output_type": "stream",
     "text": [
      "x: [1, 2], y: [1, 2, 3]\n"
     ]
    }
   ],
   "source": [
    "x = [1, 2]\n",
    "y = x.copy()\n",
    "\n",
    "y.append(3)\n",
    "\n",
    "print(f'x: {x}, y: {y}')"
   ]
  },
  {
   "attachments": {},
   "cell_type": "markdown",
   "id": "4461c508",
   "metadata": {},
   "source": [
    "# 7 == is not the same as is"
   ]
  },
  {
   "attachments": {},
   "cell_type": "markdown",
   "id": "71985075",
   "metadata": {},
   "source": [
    "## Footnotes"
   ]
  }
 ],
 "metadata": {
  "kernelspec": {
   "display_name": "Python 3 (ipykernel)",
   "language": "python",
   "name": "python3"
  },
  "language_info": {
   "codemirror_mode": {
    "name": "ipython",
    "version": 3
   },
   "file_extension": ".py",
   "mimetype": "text/x-python",
   "name": "python",
   "nbconvert_exporter": "python",
   "pygments_lexer": "ipython3",
   "version": "3.13.5"
  },
  "toc": {
   "base_numbering": 1,
   "nav_menu": {},
   "number_sections": true,
   "sideBar": true,
   "skip_h1_title": false,
   "title_cell": "Table of Contents",
   "title_sidebar": "Contents",
   "toc_cell": false,
   "toc_position": {},
   "toc_section_display": true,
   "toc_window_display": false
  },
  "vscode": {
   "interpreter": {
    "hash": "31f2aee4e71d21fbe5cf8b01ff0e069b9275f58929596ceb00d14d90e3e16cd6"
   }
  }
 },
 "nbformat": 4,
 "nbformat_minor": 5
}
