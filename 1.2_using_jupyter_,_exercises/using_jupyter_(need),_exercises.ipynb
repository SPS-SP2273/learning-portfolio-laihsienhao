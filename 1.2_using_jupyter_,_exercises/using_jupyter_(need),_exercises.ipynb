{
 "cells": [
  {
   "cell_type": "markdown",
   "id": "0b4761e0-eeb9-47fe-a924-f36e24c4d5b3",
   "metadata": {},
   "source": [
    "# Exercise 1"
   ]
  },
  {
   "attachments": {},
   "cell_type": "markdown",
   "id": "fb8222df",
   "metadata": {},
   "source": [
    "## Quadratic Equations"
   ]
  },
  {
   "attachments": {},
   "cell_type": "markdown",
   "id": "43e064e1",
   "metadata": {},
   "source": [
    "### Introduction"
   ]
  },
  {
   "cell_type": "markdown",
   "id": "b42a7eef-2796-4ea5-9711-b9af70ca885a",
   "metadata": {},
   "source": [
    "![](https://upload.wikimedia.org/wikipedia/commons/thumb/f/f8/Polynomialdeg2.svg/600px-Polynomialdeg2.svg.png)\n",
    "\n",
    "The general form of a quadratic equation is:\n",
    "$$\n",
    "ax^2 + bx + c = 0\n",
    "$$"
   ]
  },
  {
   "attachments": {},
   "cell_type": "markdown",
   "id": "81b7702c",
   "metadata": {},
   "source": [
    "### Solutions"
   ]
  },
  {
   "cell_type": "markdown",
   "id": "b1a31d52-752c-4e56-88f7-ba34f1e2fee7",
   "metadata": {},
   "source": [
    "Provided $a \\neq 0$, we can use an elementary algebraic method called completing the square to show that a quadratic equation has the following solution:\n",
    "\n",
    "$$\n",
    "x = \\dfrac{-b \\pm \\sqrt{b^2-4ac}}{2a}\n",
    "$$"
   ]
  },
  {
   "attachments": {},
   "cell_type": "markdown",
   "id": "57b1239e",
   "metadata": {},
   "source": [
    "### Discriminant"
   ]
  },
  {
   "cell_type": "markdown",
   "id": "9b346e90-3940-46ea-9cc2-4976e2b25f5b",
   "metadata": {},
   "source": [
    "The quantity $\\Delta = b^2-4ac$ is called the **discriminant** of the equation and decides the nature of its solutions. The table below shows the various possibilities.\n",
    "\n",
    "| **Discriminant** | **Roots** |\n",
    "| :--: | :--- |\n",
    "| $\\Delta = b^2-4ac = 0$ | A single solution of $-b/(2a)$ |\n",
    "| $\\Delta = b^2-4ac > 0$ | Two distinct solutions |\n",
    "| $\\Delta = b^2-4ac < 0$ | No real solutions, both are complex. |"
   ]
  },
  {
   "cell_type": "markdown",
   "id": "903bfbba-6dae-49dd-972f-2b275b9c115c",
   "metadata": {},
   "source": [
    "# Exercise 2\n",
    "1. A Git repository is an online location that develops and maintains code.\n",
    "2. Git keeps track of changes in the files in our repository.\n",
    "3. A commit specifies what file changes the user wants to be recorded and attaches a brief description of these changes.\n",
    "4. A push is an action to share changes that are recorded locally to the server.\n",
    "5. A pull is an action to save changes from the server to the local device.\n",
    "6. GitHub is an online service that allows a user to access their repository in the cloud while GitHub Desktop allows a user to make a copy of the repository on their local device."
   ]
  },
  {
   "cell_type": "markdown",
   "id": "fbfb1f7c-dc6d-44af-8da5-ff05d19edcc6",
   "metadata": {},
   "source": [
    "# Exercise 3\n",
    "\n",
    "$$\n",
    "\\mu = \\dfrac{1}{n} \\sum_{i=1}^{n} x_i\n",
    "$$\n",
    "\n",
    "$$\n",
    "\\sigma = \\sqrt{\\dfrac{1}{n} \\sum_{i=1}^{n} (x_i-\\mu)^2}\n",
    "$$\n",
    "\n",
    "$$\n",
    "r = \\dfrac{\\sum_{i=1}^{n} (x_i-\\mu_X)(y_i-\\mu_Y)}{\\sqrt{\\sum_{i=1}^{n} (x_i-\\mu_X)^2 \\sum_{i=1}^{n} (y_i-\\mu_Y)^2}}\n",
    "$$"
   ]
  }
 ],
 "metadata": {
  "kernelspec": {
   "display_name": "Python 3 (ipykernel)",
   "language": "python",
   "name": "python3"
  },
  "language_info": {
   "codemirror_mode": {
    "name": "ipython",
    "version": 3
   },
   "file_extension": ".py",
   "mimetype": "text/x-python",
   "name": "python",
   "nbconvert_exporter": "python",
   "pygments_lexer": "ipython3",
   "version": "3.13.5"
  },
  "toc": {
   "base_numbering": 1,
   "nav_menu": {},
   "number_sections": true,
   "sideBar": true,
   "skip_h1_title": false,
   "title_cell": "Table of Contents",
   "title_sidebar": "Contents",
   "toc_cell": false,
   "toc_position": {},
   "toc_section_display": true,
   "toc_window_display": false
  },
  "vscode": {
   "interpreter": {
    "hash": "31f2aee4e71d21fbe5cf8b01ff0e069b9275f58929596ceb00d14d90e3e16cd6"
   }
  }
 },
 "nbformat": 4,
 "nbformat_minor": 5
}
