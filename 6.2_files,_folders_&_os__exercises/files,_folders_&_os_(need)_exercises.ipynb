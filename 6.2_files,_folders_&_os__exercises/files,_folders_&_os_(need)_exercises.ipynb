{
 "cells": [
  {
   "attachments": {},
   "cell_type": "markdown",
   "id": "123456",
   "metadata": {},
   "source": [
    "<div style=\"text-align:left;font-size:2em\"><span style=\"font-weight:bolder;font-size:1.25em\">SP2273 | Learning Portfolio</span><br><br><span style=\"font-weight:bold;color:darkred\">Files, Folders & OS (Need) Exercises</span></div>"
   ]
  },
  {
   "cell_type": "code",
   "execution_count": 42,
   "id": "63741a4a-71f8-43e5-a68b-356214de63d6",
   "metadata": {},
   "outputs": [],
   "source": [
    "import os\n",
    "import glob\n",
    "import shutil"
   ]
  },
  {
   "cell_type": "markdown",
   "id": "4b1bd723-34ca-4540-bd52-51ec36c2635c",
   "metadata": {},
   "source": [
    "# Exercise 1"
   ]
  },
  {
   "cell_type": "markdown",
   "id": "c1e12b54-ab07-41cf-9e8d-1816edab1d70",
   "metadata": {},
   "source": [
    "## Task 1"
   ]
  },
  {
   "cell_type": "code",
   "execution_count": 10,
   "id": "a54405aa-32c4-42bc-a6f2-516ad2b604b2",
   "metadata": {},
   "outputs": [
    {
     "name": "stdout",
     "output_type": "stream",
     "text": [
      "10-08-singapore.txt\n"
     ]
    }
   ],
   "source": [
    "months = {\n",
    "    'jan': '01', 'feb': '02', 'mar': '03',\n",
    "    'apr': '04', 'may': '05', 'jun': '06',\n",
    "    'jul': '07', 'aug': '08', 'sep': '09',\n",
    "    'oct': '10', 'nov': '11', 'dec': '12'\n",
    "}\n",
    "\n",
    "old_file_name = 'oct-08_singapore.txt'\n",
    "month_str, date_country = old_file_name.split('-')\n",
    "month_int = months[month_str]\n",
    "date, country = date_country.split('_')\n",
    "new_file_name = ('-').join([month_int, date, country])\n",
    "\n",
    "print(new_file_name)"
   ]
  },
  {
   "cell_type": "markdown",
   "id": "87406a30-78da-4e8b-91d2-4c05b05014a9",
   "metadata": {},
   "source": [
    "## Task 2"
   ]
  },
  {
   "cell_type": "code",
   "execution_count": 30,
   "id": "f23e51ab-4c22-4d86-9e0d-0262e5a38cd4",
   "metadata": {},
   "outputs": [],
   "source": [
    "def rename_my_file(old_file_name):\n",
    "    months = {\n",
    "        'jan': '01', 'feb': '02', 'mar': '03',\n",
    "        'apr': '04', 'may': '05', 'jun': '06',\n",
    "        'jul': '07', 'aug': '08', 'sep': '09',\n",
    "        'oct': '10', 'nov': '11', 'dec': '12'\n",
    "    }\n",
    "\n",
    "    month_str, date_country = old_file_name.split('-')\n",
    "    month_int = months[month_str]\n",
    "    date, country = date_country.split('_')\n",
    "    new_file_name = ('-').join([month_int, date, country])\n",
    "    return new_file_name"
   ]
  },
  {
   "cell_type": "markdown",
   "id": "53bae3fd-1dc5-4d66-ba78-8ddd98a93904",
   "metadata": {},
   "source": [
    "## Task 3"
   ]
  },
  {
   "cell_type": "code",
   "execution_count": 16,
   "id": "0879f664-a9ef-4c83-8e98-b08cb6e0b5df",
   "metadata": {},
   "outputs": [
    {
     "name": "stdout",
     "output_type": "stream",
     "text": [
      "oct-08_singapore.txt ----> 10-08-singapore.txt\n",
      "jul-10_cairo.txt ----> 07-10-cairo.txt\n",
      "may-15_dhaka.txt ----> 05-15-dhaka.txt\n",
      "may-13_cairo.txt ----> 05-13-cairo.txt\n",
      "oct-21_cairo.txt ----> 10-21-cairo.txt\n",
      "jan-10_singapore.txt ----> 01-10-singapore.txt\n",
      "jun-20_tokyo.txt ----> 06-20-tokyo.txt\n",
      "aug-06_jakarta.txt ----> 08-06-jakarta.txt\n",
      "dec-21_karachi.txt ----> 12-21-karachi.txt\n",
      "jan-01_tokyo.txt ----> 01-01-tokyo.txt\n"
     ]
    }
   ],
   "source": [
    "old_file_names = ['oct-08_singapore.txt', 'jul-10_cairo.txt', 'may-15_dhaka.txt',\n",
    " 'may-13_cairo.txt', 'oct-21_cairo.txt', 'jan-10_singapore.txt',\n",
    " 'jun-20_tokyo.txt', 'aug-06_jakarta.txt', 'dec-21_karachi.txt',\n",
    " 'jan-01_tokyo.txt']\n",
    "\n",
    "for old_file_name in old_file_names:\n",
    "    print(f'{old_file_name} ----> {rename_my_file(old_file_name)}')"
   ]
  },
  {
   "cell_type": "markdown",
   "id": "ef573b91-1b62-4864-bd6a-59d6f311f480",
   "metadata": {},
   "source": [
    "## Task 4"
   ]
  },
  {
   "cell_type": "code",
   "execution_count": 33,
   "id": "4dcf975c-195f-4c2f-865a-0dfb20dc895f",
   "metadata": {},
   "outputs": [],
   "source": [
    "for old_file_path in glob.glob('os-collaboration-exercise-data/*'):\n",
    "    folder_path, old_file_name = old_file_path.split(os.path.sep)\n",
    "    if old_file_name.split('.')[-1] == 'txt':\n",
    "        new_file_name = rename_my_file(old_file_name)\n",
    "        new_file_path = os.path.join(folder_path, new_file_name)\n",
    "        os.rename(old_file_path, new_file_path)"
   ]
  },
  {
   "cell_type": "markdown",
   "id": "6ba32033-7c6a-4c73-b3c9-093f269b61b4",
   "metadata": {},
   "source": [
    "## Task 5"
   ]
  },
  {
   "cell_type": "code",
   "execution_count": 35,
   "id": "4a69c63f-832f-4db7-a740-540b3a447683",
   "metadata": {},
   "outputs": [],
   "source": [
    "cities = ['Cairo', 'Dhaka', 'Jakarta', 'Karachi', 'Manila',\n",
    " 'Melbourne', 'Osaka', 'Shanghai', 'Singapore', 'Tokyo']\n",
    "\n",
    "for city in cities:\n",
    "    path = os.path.join('os-collaboration-exercise-data', city)\n",
    "    os.mkdir(path)"
   ]
  },
  {
   "cell_type": "markdown",
   "id": "dcc50702-9e13-4e19-bd31-4f1528cfddde",
   "metadata": {},
   "source": [
    "## Task 6"
   ]
  },
  {
   "cell_type": "code",
   "execution_count": 43,
   "id": "9c12f1b5-6072-49c5-8764-777672563403",
   "metadata": {},
   "outputs": [],
   "source": [
    "for file in glob.glob('os-collaboration-exercise-data/*cairo*'):\n",
    "    path_to_destination = os.path.join('os-collaboration-exercise-data', 'Cairo')\n",
    "    shutil.copy(file, path_to_destination)"
   ]
  },
  {
   "cell_type": "markdown",
   "id": "2fdf07f5-8828-4add-8305-3c669ab22704",
   "metadata": {},
   "source": [
    "## Task 7"
   ]
  },
  {
   "cell_type": "code",
   "execution_count": 86,
   "id": "4c87cd3a-8e39-4edb-835c-a90ad63a6317",
   "metadata": {},
   "outputs": [],
   "source": [
    "for city in cities:\n",
    "    files = os.path.join('os-collaboration-exercise-data', f'*{city.lower()}.*')\n",
    "    new_path = os.path.join('os-collaboration-exercise-data', city)\n",
    "    for current_path in glob.glob(files):\n",
    "        shutil.move(current_path, new_path)"
   ]
  }
 ],
 "metadata": {
  "kernelspec": {
   "display_name": "Python 3 (ipykernel)",
   "language": "python",
   "name": "python3"
  },
  "language_info": {
   "codemirror_mode": {
    "name": "ipython",
    "version": 3
   },
   "file_extension": ".py",
   "mimetype": "text/x-python",
   "name": "python",
   "nbconvert_exporter": "python",
   "pygments_lexer": "ipython3",
   "version": "3.13.5"
  },
  "toc": {
   "base_numbering": 1,
   "nav_menu": {},
   "number_sections": true,
   "sideBar": true,
   "skip_h1_title": false,
   "title_cell": "Table of Contents",
   "title_sidebar": "Contents",
   "toc_cell": false,
   "toc_position": {},
   "toc_section_display": true,
   "toc_window_display": false
  },
  "vscode": {
   "interpreter": {
    "hash": "31f2aee4e71d21fbe5cf8b01ff0e069b9275f58929596ceb00d14d90e3e16cd6"
   }
  }
 },
 "nbformat": 4,
 "nbformat_minor": 5
}
