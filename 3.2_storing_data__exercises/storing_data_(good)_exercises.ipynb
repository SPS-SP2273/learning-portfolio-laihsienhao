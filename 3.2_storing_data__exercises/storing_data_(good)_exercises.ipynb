{
 "cells": [
  {
   "attachments": {},
   "cell_type": "markdown",
   "id": "123456",
   "metadata": {},
   "source": [
    "<div style=\"text-align:left;font-size:2em\"><span style=\"font-weight:bolder;font-size:1.25em\">SP2273 | Learning Portfolio</span><br><br><span style=\"font-weight:bold;color:darkred\">Storing Data (Good) Exercises</span></div>"
   ]
  },
  {
   "cell_type": "code",
   "execution_count": 1,
   "id": "5dff21f5-80b2-4e8d-8e36-185bda6eb384",
   "metadata": {},
   "outputs": [],
   "source": [
    "import numpy as np"
   ]
  },
  {
   "cell_type": "markdown",
   "id": "6f503b41-c6b5-49f8-badc-33bbf993bfc2",
   "metadata": {},
   "source": [
    "# Exercise 1"
   ]
  },
  {
   "cell_type": "markdown",
   "id": "4986fda5-4b54-47ce-b846-68125dd26736",
   "metadata": {},
   "source": [
    "|**Term**|**Brief description**|\n",
    "|:---|:---|\n",
    "|Subsetting|Selecting data from a data structure|\n",
    "|Indexing|Selecting one element from a data structure|\n",
    "|Slicing|Selecting a range of elements from a data structure|\n",
    "|Masking|A form of subsetting by changing the elements in the data structure to boolean according to some condition|"
   ]
  },
  {
   "cell_type": "markdown",
   "id": "40cf4ac7-b515-40d0-b9e8-10a601bfba73",
   "metadata": {},
   "source": [
    "# Exercise 2"
   ]
  },
  {
   "cell_type": "code",
   "execution_count": 19,
   "id": "b959e866-552d-4856-9daf-098ad1c1b143",
   "metadata": {},
   "outputs": [
    {
     "name": "stdout",
     "output_type": "stream",
     "text": [
      "['A' 'C' 'E' 'G' 'I']\n"
     ]
    }
   ],
   "source": [
    "np_array_2d = np.array([[1, \"A\"], [3, \"C\"], [2, \"B\"], [4, \"D\"],\n",
    "                        [5, \"E\"], [7, \"G\"], [6, \"F\"], [8, \"H\"],\n",
    "                        [10, \"J\"], [9, \"I\"]])\n",
    "subset = np_array_2d[:, 0].astype(int) % 2\n",
    "print(np_array_2d[(subset == 1)][:, 1])"
   ]
  },
  {
   "cell_type": "markdown",
   "id": "8a704183-e141-4341-b7ca-d387b3086af7",
   "metadata": {},
   "source": [
    "# Exercise 3"
   ]
  },
  {
   "cell_type": "code",
   "execution_count": 15,
   "id": "2d772809-6565-4fea-8749-66ea61b3c528",
   "metadata": {},
   "outputs": [
    {
     "data": {
      "text/plain": [
       "array([[ 1,  0,  1, -1, -1],\n",
       "       [ 1, -1,  1, -1, -1],\n",
       "       [ 1, -1, -1,  1, -1],\n",
       "       [-1,  1,  1, -1, -1],\n",
       "       [ 1, -1,  1, -1,  1]])"
      ]
     },
     "execution_count": 15,
     "metadata": {},
     "output_type": "execute_result"
    }
   ],
   "source": [
    "np_array_2d = np.array([[66, 50, 57, -1, -1], \n",
    "                        [92, -1, 88, -1, -1], \n",
    "                        [75, -1, -1, 76, -1], \n",
    "                        [-1, 51, 87, -1, -1], \n",
    "                        [71, -1, 67, -1, 69]])\n",
    "np_array_2d[np_array_2d < 50] = -1\n",
    "np_array_2d[np_array_2d > 50] = 1\n",
    "np_array_2d[np_array_2d == 50] = 0\n",
    "np_array_2d"
   ]
  }
 ],
 "metadata": {
  "kernelspec": {
   "display_name": "Python 3 (ipykernel)",
   "language": "python",
   "name": "python3"
  },
  "language_info": {
   "codemirror_mode": {
    "name": "ipython",
    "version": 3
   },
   "file_extension": ".py",
   "mimetype": "text/x-python",
   "name": "python",
   "nbconvert_exporter": "python",
   "pygments_lexer": "ipython3",
   "version": "3.13.5"
  },
  "toc": {
   "base_numbering": 1,
   "nav_menu": {},
   "number_sections": true,
   "sideBar": true,
   "skip_h1_title": false,
   "title_cell": "Table of Contents",
   "title_sidebar": "Contents",
   "toc_cell": false,
   "toc_position": {},
   "toc_section_display": true,
   "toc_window_display": false
  },
  "vscode": {
   "interpreter": {
    "hash": "31f2aee4e71d21fbe5cf8b01ff0e069b9275f58929596ceb00d14d90e3e16cd6"
   }
  }
 },
 "nbformat": 4,
 "nbformat_minor": 5
}
