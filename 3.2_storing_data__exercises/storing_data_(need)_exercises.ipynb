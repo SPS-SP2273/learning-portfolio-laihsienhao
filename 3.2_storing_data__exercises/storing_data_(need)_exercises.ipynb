{
 "cells": [
  {
   "attachments": {},
   "cell_type": "markdown",
   "id": "123456",
   "metadata": {},
   "source": [
    "<div style=\"text-align:left;font-size:2em\"><span style=\"font-weight:bolder;font-size:1.25em\">SP2273 | Learning Portfolio</span><br><br><span style=\"font-weight:bold;color:darkred\">Storing Data (Need) Exercises</span></div>"
   ]
  },
  {
   "cell_type": "code",
   "execution_count": 2,
   "id": "639e7f37-340d-49e9-a068-ac5d324bfb7a",
   "metadata": {},
   "outputs": [],
   "source": [
    "import numpy as np"
   ]
  },
  {
   "cell_type": "markdown",
   "id": "e7f4c1b5-69f2-4292-8f59-f16c02c23c2c",
   "metadata": {},
   "source": [
    "# Exercise 1"
   ]
  },
  {
   "cell_type": "markdown",
   "id": "4935fd34-d791-4969-9860-6f2bd8c441e3",
   "metadata": {},
   "source": [
    "1. 1. Lists and arrays store data in an ordered manner\n",
    "   2. Lists and arrays allow data to be accessed according to the data's index\n",
    "2. 1. Lists belong to Python while arrays belong to Numpy\n",
    "   2. Lists can store data of multiple data types while arrays can only store data of one data type\n",
    "3. A dictionary stores data using keys and values that are associated with the keys"
   ]
  },
  {
   "cell_type": "markdown",
   "id": "b707651b-66de-49b2-9a73-60cd57173881",
   "metadata": {},
   "source": [
    "# Exercise 2"
   ]
  },
  {
   "cell_type": "code",
   "execution_count": 2,
   "id": "a3b437f1-315a-4749-98f2-ba612331428d",
   "metadata": {},
   "outputs": [
    {
     "name": "stdout",
     "output_type": "stream",
     "text": [
      "a1\n",
      "c3\n",
      "e5\n",
      "g7\n",
      "i9\n"
     ]
    }
   ],
   "source": [
    "py_list = [\"a1\", \"b2\", \"c3\", \"d4\", \"e5\", \"f6\", \"g7\", \"h8\", \"i9\", \"j10\"]\n",
    "print(py_list[0])   # Prints 'a1'\n",
    "print(py_list[2])   # Prints 'c3'\n",
    "print(py_list[4])   # Prints 'e5'\n",
    "print(py_list[6])   # Prints 'g7'\n",
    "print(py_list[8])   # Prints 'i9'"
   ]
  },
  {
   "cell_type": "markdown",
   "id": "71e2468b-8b9d-44dd-9eec-045e04c91b65",
   "metadata": {},
   "source": [
    "# Exercise 3"
   ]
  },
  {
   "cell_type": "code",
   "execution_count": 3,
   "id": "572e0a16-e27a-47b0-8195-f8a0bbd4757b",
   "metadata": {},
   "outputs": [
    {
     "name": "stdout",
     "output_type": "stream",
     "text": [
      "Boron\n",
      "Boron\n"
     ]
    }
   ],
   "source": [
    "elements = ['Hydrogen',\n",
    "            'Helium', 'Lithium',\n",
    "            'Beryllium', 'Boron', 'Carbon',\n",
    "            'Nitrogen', 'Oxygen',\n",
    "            'Fluorine',\n",
    "            'Neon']\n",
    "print(elements[4])\n",
    "print(elements[-6])"
   ]
  },
  {
   "cell_type": "markdown",
   "id": "c30baf68-436d-4e2f-8a6a-521029c65385",
   "metadata": {},
   "source": [
    "# Exercise 4"
   ]
  },
  {
   "cell_type": "code",
   "execution_count": 11,
   "id": "f649e323-fecb-4253-b724-4688a3db4709",
   "metadata": {},
   "outputs": [
    {
     "name": "stdout",
     "output_type": "stream",
     "text": [
      "There are 9 1's in the list.\n"
     ]
    }
   ],
   "source": [
    "numbers=[45, 60, 1, 30, 96, 1, 96, 57, 16, 1,\n",
    "        99, 62, 86, 43, 42, 60, 59, 1, 1, 35,\n",
    "        83, 47, 34, 28, 68, 23, 22, 92, 1, 79,\n",
    "        1, 29, 94, 72, 46, 47, 1, 74, 32, 20,\n",
    "        8, 37, 35, 1, 89, 29, 86, 19, 43, 61]\n",
    "np_numbers = np.array(numbers)\n",
    "print(f'There are {(np_numbers == 1).sum()} 1\\'s in the list.')"
   ]
  },
  {
   "cell_type": "markdown",
   "id": "565f4475-8cc0-4700-8dc4-99940b8b7f38",
   "metadata": {},
   "source": [
    "# Exercise 5"
   ]
  },
  {
   "cell_type": "code",
   "execution_count": 3,
   "id": "8faa5ef1-346c-4912-aac8-7670504c6cbe",
   "metadata": {},
   "outputs": [
    {
     "name": "stdout",
     "output_type": "stream",
     "text": [
      "The mean of x1 is 38.5.\n",
      "The mean of x2 is 302.5.\n",
      "The standard deviation of x1 is 32.4.\n",
      "The standard deviation of x2 is 326.1.\n",
      "The calculated Pearson correlation coefficient of x1 and x2 is 0.987.\n",
      "The actual Pearson correlation coefficient of x1 and x2 is 0.987.\n"
     ]
    }
   ],
   "source": [
    "x_1 = [1, 4, 9, 16, 25, 36, 49, 64, 81, 100]\n",
    "x_2 = [1, 8, 27, 64, 125, 216, 343, 512, 729, 1000]\n",
    "np_x_1 = np.array(x_1)\n",
    "np_x_2 = np.array(x_2)\n",
    "mean_x_1 = np_x_1.mean()\n",
    "mean_x_2 = np_x_2.mean()\n",
    "std_x_1 = np_x_1.std()\n",
    "std_x_2 = np_x_2.std()\n",
    "num = 0\n",
    "den1 = 0\n",
    "den2 = 0\n",
    "for i in range(10):\n",
    "    num += (x_1[i]-mean_x_1)*(x_2[i]-mean_x_2)\n",
    "    den1 += (x_1[i]-mean_x_1)**2\n",
    "    den2 += (x_2[i]-mean_x_2)**2\n",
    "r1 = num / np.sqrt(den1*den2)\n",
    "r2 = np.corrcoef(np_x_1, np_x_2)\n",
    "print(f'The mean of x1 is {mean_x_1}.')\n",
    "print(f'The mean of x2 is {mean_x_2}.')\n",
    "print(f'The standard deviation of x1 is {std_x_1:.1f}.')\n",
    "print(f'The standard deviation of x2 is {std_x_2:.1f}.')\n",
    "print(f'The calculated Pearson correlation coefficient of x1 and x2 is {r1:.3f}.')\n",
    "print(f'The actual Pearson correlation coefficient of x1 and x2 is {r2[0][1]:.3f}.')"
   ]
  }
 ],
 "metadata": {
  "kernelspec": {
   "display_name": "Python 3 (ipykernel)",
   "language": "python",
   "name": "python3"
  },
  "language_info": {
   "codemirror_mode": {
    "name": "ipython",
    "version": 3
   },
   "file_extension": ".py",
   "mimetype": "text/x-python",
   "name": "python",
   "nbconvert_exporter": "python",
   "pygments_lexer": "ipython3",
   "version": "3.13.5"
  },
  "toc": {
   "base_numbering": 1,
   "nav_menu": {},
   "number_sections": true,
   "sideBar": true,
   "skip_h1_title": false,
   "title_cell": "Table of Contents",
   "title_sidebar": "Contents",
   "toc_cell": false,
   "toc_position": {},
   "toc_section_display": true,
   "toc_window_display": false
  },
  "vscode": {
   "interpreter": {
    "hash": "31f2aee4e71d21fbe5cf8b01ff0e069b9275f58929596ceb00d14d90e3e16cd6"
   }
  }
 },
 "nbformat": 4,
 "nbformat_minor": 5
}
