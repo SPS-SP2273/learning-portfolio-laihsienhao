{
 "cells": [
  {
   "attachments": {},
   "cell_type": "markdown",
   "id": "123456",
   "metadata": {},
   "source": [
    "<div style=\"text-align:left;font-size:2em\"><span style=\"font-weight:bolder;font-size:1.25em\">SP2273 | Learning Portfolio</span><br><br><span style=\"font-weight:bold;color:darkred\">Fundamentals (Good) Exercises</span></div>"
   ]
  },
  {
   "cell_type": "markdown",
   "id": "16297a28-b85a-4303-9dd8-eb7312697b1f",
   "metadata": {},
   "source": [
    "# Exercise 1"
   ]
  },
  {
   "cell_type": "code",
   "execution_count": 8,
   "id": "fdd7bdd6-a572-4dc2-89cc-2c3c1067cfc3",
   "metadata": {},
   "outputs": [
    {
     "name": "stdin",
     "output_type": "stream",
     "text": [
      "What is your name? world\n"
     ]
    },
    {
     "name": "stdout",
     "output_type": "stream",
     "text": [
      "How you doin \u001b[1mWORLD\u001b[0m!\n"
     ]
    }
   ],
   "source": [
    "name = input('What is your name?')\n",
    "print(f'How you doin \\033[1m{name.upper()}\\033[0m!')"
   ]
  },
  {
   "cell_type": "code",
   "execution_count": 10,
   "id": "491ff548-97de-4d56-8348-d929448c7db5",
   "metadata": {},
   "outputs": [
    {
     "name": "stdin",
     "output_type": "stream",
     "text": [
      "What is your name? world\n",
      "What is your age? 10\n"
     ]
    },
    {
     "name": "stdout",
     "output_type": "stream",
     "text": [
      "My name is \u001b[1mWORLD\u001b[0m and I am \u001b[1m10\u001b[0m years old.\n"
     ]
    }
   ],
   "source": [
    "name = input('What is your name?')\n",
    "age = int(input('What is your age?'))\n",
    "print(f'My name is \\033[1m{name.upper()}\\033[0m and I am \\033[1m{age}\\033[0m years old.')"
   ]
  },
  {
   "cell_type": "code",
   "execution_count": 13,
   "id": "f7faa5ec-613e-41c6-88be-9cfde3a2159f",
   "metadata": {},
   "outputs": [
    {
     "name": "stdout",
     "output_type": "stream",
     "text": [
      "The value of pi to 2 demical places is: 3.14\n",
      "The value of pi to 3 decimal places is: 3.142\n",
      "The value of pi to 4 decimal places is: 3.1416\n"
     ]
    }
   ],
   "source": [
    "pi = 3.141592653589793\n",
    "print(f'The value of pi to 2 demical places is: {pi:.2f}')\n",
    "print(f'The value of pi to 3 decimal places is: {pi:.3f}')\n",
    "print(f'The value of pi to 4 decimal places is: {pi:.4f}')"
   ]
  },
  {
   "cell_type": "code",
   "execution_count": 26,
   "id": "38f0ecd0-04af-45b4-9748-37bd90b4f20b",
   "metadata": {},
   "outputs": [
    {
     "name": "stdout",
     "output_type": "stream",
     "text": [
      "Apple      $ 0.99\n",
      "Banana     $ 0.59\n",
      "Orange     $ 1.29\n"
     ]
    }
   ],
   "source": [
    "prices = {\n",
    "    \"Apple\": 0.99,\n",
    "    \"Banana\": 0.59,\n",
    "    \"Orange\": 1.29\n",
    "}\n",
    "for fruit in prices:\n",
    "    print(fruit, end='')\n",
    "    for i in range(11-len(fruit)):\n",
    "        print(' ', end='')\n",
    "    print(f'$ {prices[fruit]}')"
   ]
  },
  {
   "cell_type": "markdown",
   "id": "643c80a6-006d-4dc7-b3a6-31233323c9f3",
   "metadata": {},
   "source": [
    "# Exercise 2"
   ]
  },
  {
   "cell_type": "code",
   "execution_count": 42,
   "id": "be462234-4de3-45d4-bc90-24268068a55f",
   "metadata": {},
   "outputs": [
    {
     "name": "stdin",
     "output_type": "stream",
     "text": [
      "What is your score? 100\n"
     ]
    },
    {
     "name": "stdout",
     "output_type": "stream",
     "text": [
      "Your grade is: A\n"
     ]
    }
   ],
   "source": [
    "score = int(input('What is your score?'))\n",
    "if 70 <= score <= 100:\n",
    "    print('Your grade is: A')\n",
    "elif 50 <= score <= 69:\n",
    "    print('Your grade is: B')\n",
    "elif 35 <= score <= 49:\n",
    "    print('Your grade is: C')\n",
    "elif 0 <= score <= 34:\n",
    "    print('Your grade is: Fail')\n",
    "else:\n",
    "    print('Invalid score')"
   ]
  },
  {
   "cell_type": "markdown",
   "id": "11540c63-6076-461c-8061-7712b0d20b7c",
   "metadata": {},
   "source": [
    "# Exercise 3"
   ]
  },
  {
   "cell_type": "code",
   "execution_count": 45,
   "id": "d3fccbb2-d5e8-49e3-9a7a-a787e8713ae0",
   "metadata": {},
   "outputs": [
    {
     "name": "stdout",
     "output_type": "stream",
     "text": [
      "120\n",
      "Invalid input\n"
     ]
    }
   ],
   "source": [
    "def factorial(n):\n",
    "    if n < 0:\n",
    "        return \"Invalid input\"\n",
    "    elif n == 0:\n",
    "        return 1\n",
    "    else:\n",
    "        result = 1\n",
    "        for number in range(1, n+1):\n",
    "            result *= number\n",
    "        return result\n",
    "\n",
    "\n",
    "print(factorial(5))    # Testing, expected output: 120\n",
    "print(factorial(-1))   # Testing, expected output: Invalid input"
   ]
  }
 ],
 "metadata": {
  "kernelspec": {
   "display_name": "Python 3 (ipykernel)",
   "language": "python",
   "name": "python3"
  },
  "language_info": {
   "codemirror_mode": {
    "name": "ipython",
    "version": 3
   },
   "file_extension": ".py",
   "mimetype": "text/x-python",
   "name": "python",
   "nbconvert_exporter": "python",
   "pygments_lexer": "ipython3",
   "version": "3.13.5"
  },
  "toc": {
   "base_numbering": 1,
   "nav_menu": {},
   "number_sections": true,
   "sideBar": true,
   "skip_h1_title": false,
   "title_cell": "Table of Contents",
   "title_sidebar": "Contents",
   "toc_cell": false,
   "toc_position": {},
   "toc_section_display": true,
   "toc_window_display": false
  },
  "vscode": {
   "interpreter": {
    "hash": "31f2aee4e71d21fbe5cf8b01ff0e069b9275f58929596ceb00d14d90e3e16cd6"
   }
  }
 },
 "nbformat": 4,
 "nbformat_minor": 5
}
