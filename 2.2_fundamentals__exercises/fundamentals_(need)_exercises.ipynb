{
 "cells": [
  {
   "attachments": {},
   "cell_type": "markdown",
   "id": "123456",
   "metadata": {},
   "source": [
    "<div style=\"text-align:left;font-size:2em\"><span style=\"font-weight:bolder;font-size:1.25em\">SP2273 | Learning Portfolio</span><br><br><span style=\"font-weight:bold;color:darkred\">Fundamentals (Need) Exercises</span></div>"
   ]
  },
  {
   "cell_type": "markdown",
   "id": "140269de-e7fb-4f10-b2b7-870700ae7fd0",
   "metadata": {},
   "source": [
    "# Exercise 1"
   ]
  },
  {
   "cell_type": "markdown",
   "id": "3d02694d-9eff-467d-ad20-fa0989c96518",
   "metadata": {},
   "source": [
    "1. Functions\n",
    "2. Comments\n",
    "3. Variables\n",
    "4. Packages\n",
    "5. *Equality*\n",
    "6. *If Else*\n",
    "7. *Indentations*\n",
    "8. *Brackets*"
   ]
  },
  {
   "cell_type": "markdown",
   "id": "0ad68da4-f0fe-46d9-bf6b-740dfbab7ade",
   "metadata": {},
   "source": [
    "# Exercise 2"
   ]
  },
  {
   "cell_type": "code",
   "execution_count": 15,
   "id": "bfed1b00-adc0-4b38-960a-4f6983ae9286",
   "metadata": {},
   "outputs": [
    {
     "name": "stdout",
     "output_type": "stream",
     "text": [
      "3 4 5\n"
     ]
    }
   ],
   "source": [
    "import math\n",
    "x, y = 3, 4\n",
    "z = math.sqrt(x**2 + y**2)\n",
    "print(x, y, f'{z:.0f}')"
   ]
  },
  {
   "cell_type": "markdown",
   "id": "e4d82eb0-40c1-4053-a53f-3f27509464f5",
   "metadata": {},
   "source": [
    "# Exercise 3"
   ]
  },
  {
   "cell_type": "markdown",
   "id": "25aa9e7c-1791-4bd2-bd9a-807938315c7f",
   "metadata": {},
   "source": [
    "| # | Term | Description |\n",
    "|:--:|:---|:---|\n",
    "| 1 | Function | A code that performs a specific task |\n",
    "| 2 | Arguments | Values that can be passed into a function |\n",
    "| 3 | Comments | Text that is ignored by the interpreter, used to explain code |\n",
    "| 4 | Indentations | Whitespace at the beginning of each line of code that defines the 'levels' of code |\n",
    "| 5 | Packages | Importable files containing additional code that can be used |\n",
    "| 6 | . | Character to indicate ownership |\n",
    "| 7 | : | Character to assign values to keys in a dictionary |\n",
    "| 8 | [] | Brackets used to define lists |\n",
    "| 9 | [[],[]] | A list containing 2 empty lists |\n",
    "| 10 | {} | Brackets used to define dictionaries |"
   ]
  },
  {
   "cell_type": "markdown",
   "id": "771d27ac-a334-461f-b6b7-2ebd031a9640",
   "metadata": {},
   "source": [
    "# Exercise 4"
   ]
  },
  {
   "cell_type": "code",
   "execution_count": 16,
   "id": "bce80c5d-5aec-420e-901a-e775f8c4a5a6",
   "metadata": {},
   "outputs": [
    {
     "data": {
      "text/plain": [
       "2.5"
      ]
     },
     "execution_count": 16,
     "metadata": {},
     "output_type": "execute_result"
    }
   ],
   "source": [
    "5/2 # 5 divided by 2"
   ]
  },
  {
   "cell_type": "code",
   "execution_count": 20,
   "id": "e27be9c0-51f7-4f8e-8d4f-b4043bd9e4e5",
   "metadata": {},
   "outputs": [
    {
     "data": {
      "text/plain": [
       "2"
      ]
     },
     "execution_count": 20,
     "metadata": {},
     "output_type": "execute_result"
    }
   ],
   "source": [
    "5//2 # 5 divided by 2, truncated"
   ]
  },
  {
   "cell_type": "code",
   "execution_count": 22,
   "id": "dced1ed8-97a9-49b6-9f27-6358d4d058a2",
   "metadata": {},
   "outputs": [
    {
     "data": {
      "text/plain": [
       "1"
      ]
     },
     "execution_count": 22,
     "metadata": {},
     "output_type": "execute_result"
    }
   ],
   "source": [
    "5%2 # Remainder when 5 is divided by 2"
   ]
  }
 ],
 "metadata": {
  "kernelspec": {
   "display_name": "Python 3 (ipykernel)",
   "language": "python",
   "name": "python3"
  },
  "language_info": {
   "codemirror_mode": {
    "name": "ipython",
    "version": 3
   },
   "file_extension": ".py",
   "mimetype": "text/x-python",
   "name": "python",
   "nbconvert_exporter": "python",
   "pygments_lexer": "ipython3",
   "version": "3.13.5"
  },
  "toc": {
   "base_numbering": 1,
   "nav_menu": {},
   "number_sections": true,
   "sideBar": true,
   "skip_h1_title": false,
   "title_cell": "Table of Contents",
   "title_sidebar": "Contents",
   "toc_cell": false,
   "toc_position": {},
   "toc_section_display": true,
   "toc_window_display": false
  },
  "vscode": {
   "interpreter": {
    "hash": "31f2aee4e71d21fbe5cf8b01ff0e069b9275f58929596ceb00d14d90e3e16cd6"
   }
  }
 },
 "nbformat": 4,
 "nbformat_minor": 5
}
