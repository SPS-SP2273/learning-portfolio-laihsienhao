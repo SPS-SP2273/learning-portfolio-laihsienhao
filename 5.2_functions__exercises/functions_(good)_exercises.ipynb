{
 "cells": [
  {
   "attachments": {},
   "cell_type": "markdown",
   "id": "123456",
   "metadata": {},
   "source": [
    "<div style=\"text-align:left;font-size:2em\"><span style=\"font-weight:bolder;font-size:1.25em\">SP2273 | Learning Portfolio</span><br><br><span style=\"font-weight:bold;color:darkred\">Functions (Good) Exercises</span></div>"
   ]
  },
  {
   "cell_type": "markdown",
   "id": "acd1265d-3425-4226-ab46-23fd32f7dd4d",
   "metadata": {},
   "source": [
    "# Exercise 1"
   ]
  },
  {
   "cell_type": "code",
   "execution_count": 22,
   "id": "42042a9b-8017-4629-b156-3ba769b5a7a9",
   "metadata": {},
   "outputs": [],
   "source": [
    "def convert_celsius(temperature_celsius, target_scale='Fahrenheit'):\n",
    "    try:\n",
    "        if target_scale == 'Fahrenheit':\n",
    "            return (temperature_celsius * 9 / 5) + 32\n",
    "        elif target_scale == 'Kelvin':\n",
    "            return temperature_celsius + 273.15\n",
    "        else:\n",
    "            return f'Invalid scale'\n",
    "    except TypeError:\n",
    "        return f'Invalid temperature'"
   ]
  },
  {
   "cell_type": "markdown",
   "id": "6873cd96-9274-47c9-a845-5c072324baaa",
   "metadata": {},
   "source": [
    "# Exercise 2"
   ]
  },
  {
   "cell_type": "code",
   "execution_count": 23,
   "id": "db19a60e-ec9e-480d-9a0e-ecd61a8a6909",
   "metadata": {},
   "outputs": [],
   "source": [
    "def convert_fahrenheit(temperature_fahrenheit, target_scale='Celsius'):\n",
    "    try:\n",
    "        if target_scale == 'Celsius':\n",
    "            return (temperature_fahrenheit - 32) * 5 / 9\n",
    "        elif target_scale == 'Kelvin':\n",
    "            return ((temperature_fahrenheit - 32) * 5 / 9) + 273.15\n",
    "        else:\n",
    "            return f'Invalid scale'\n",
    "    except TypeError:\n",
    "        return f'Invalid temperature'"
   ]
  },
  {
   "cell_type": "markdown",
   "id": "b4579e0c-20b6-4b8d-8c4f-b5c066877f30",
   "metadata": {},
   "source": [
    "# Exercise 3"
   ]
  },
  {
   "cell_type": "code",
   "execution_count": 24,
   "id": "eab104aa-cd63-4ca9-9681-3f107c54a896",
   "metadata": {},
   "outputs": [],
   "source": [
    "def convert_kelvin(temperature_kelvin, target_scale):\n",
    "    try:\n",
    "        if target_scale == 'Celsius':\n",
    "            return temperature_kelvin - 273.15\n",
    "        elif target_scale == 'Fahrenheit':\n",
    "            return ((temperature_kelvin - 273.15) * 9 / 5) + 32\n",
    "        else:\n",
    "            return f'Invalid scale'\n",
    "    except TypeError:\n",
    "        return f'Invalid temperature'"
   ]
  },
  {
   "cell_type": "code",
   "execution_count": 32,
   "id": "010efc2f-69d0-4cb9-bed1-5483d2e176b8",
   "metadata": {},
   "outputs": [],
   "source": [
    "def convert_temperature(temperature, source_scale, target_scale):\n",
    "    match source_scale:\n",
    "        case 'Celsius':\n",
    "            return convert_celsius(temperature, target_scale)\n",
    "        case 'Fahrenheit':\n",
    "            return convert_fahrenheit(temperature, target_scale)\n",
    "        case 'Kelvin':\n",
    "            return convert_kelvin(temperature, target_scale)\n",
    "        case _:\n",
    "            return f'Invalid scale'"
   ]
  }
 ],
 "metadata": {
  "kernelspec": {
   "display_name": "Python 3 (ipykernel)",
   "language": "python",
   "name": "python3"
  },
  "language_info": {
   "codemirror_mode": {
    "name": "ipython",
    "version": 3
   },
   "file_extension": ".py",
   "mimetype": "text/x-python",
   "name": "python",
   "nbconvert_exporter": "python",
   "pygments_lexer": "ipython3",
   "version": "3.13.5"
  },
  "toc": {
   "base_numbering": 1,
   "nav_menu": {},
   "number_sections": true,
   "sideBar": true,
   "skip_h1_title": false,
   "title_cell": "Table of Contents",
   "title_sidebar": "Contents",
   "toc_cell": false,
   "toc_position": {},
   "toc_section_display": true,
   "toc_window_display": false
  },
  "vscode": {
   "interpreter": {
    "hash": "31f2aee4e71d21fbe5cf8b01ff0e069b9275f58929596ceb00d14d90e3e16cd6"
   }
  }
 },
 "nbformat": 4,
 "nbformat_minor": 5
}
