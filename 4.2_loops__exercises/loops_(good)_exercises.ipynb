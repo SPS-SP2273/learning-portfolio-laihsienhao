{
 "cells": [
  {
   "attachments": {},
   "cell_type": "markdown",
   "id": "123456",
   "metadata": {},
   "source": [
    "<div style=\"text-align:left;font-size:2em\"><span style=\"font-weight:bolder;font-size:1.25em\">SP2273 | Learning Portfolio</span><br><br><span style=\"font-weight:bold;color:darkred\">Loops (Good) Exercises</span></div>"
   ]
  },
  {
   "cell_type": "markdown",
   "id": "ecaf76ed-5166-4a47-851c-7d197f0f687f",
   "metadata": {},
   "source": [
    "# Exercise 1"
   ]
  },
  {
   "cell_type": "code",
   "execution_count": 3,
   "id": "2d145688-5c91-44ca-bb64-6d6202a19257",
   "metadata": {},
   "outputs": [
    {
     "data": {
      "text/plain": [
       "[1, 9, 25, 49, 81]"
      ]
     },
     "execution_count": 3,
     "metadata": {},
     "output_type": "execute_result"
    }
   ],
   "source": [
    "odd = []\n",
    "for i in range(10):\n",
    "    if i % 2 == 0:\n",
    "        continue\n",
    "    odd.append(i**2)\n",
    "odd"
   ]
  },
  {
   "cell_type": "markdown",
   "id": "9c5b58fb-c7af-4a75-8874-f6f660727275",
   "metadata": {},
   "source": [
    "# Exercise 2"
   ]
  },
  {
   "cell_type": "code",
   "execution_count": 4,
   "id": "e9c0cb7a-71e2-41f8-abe9-18ecf7756c11",
   "metadata": {},
   "outputs": [
    {
     "data": {
      "text/plain": [
       "[1, 9, 25, 49, 81]"
      ]
     },
     "execution_count": 4,
     "metadata": {},
     "output_type": "execute_result"
    }
   ],
   "source": [
    "odd = [i**2 for i in range(10) if i % 2 == 1]\n",
    "odd"
   ]
  },
  {
   "cell_type": "markdown",
   "id": "69429f30-6c23-4f78-a3de-dab14c719b7b",
   "metadata": {},
   "source": [
    "# Exercise 3"
   ]
  },
  {
   "cell_type": "code",
   "execution_count": 5,
   "id": "a78d3e33-600f-47ae-b322-e1091380ca0a",
   "metadata": {},
   "outputs": [
    {
     "name": "stdout",
     "output_type": "stream",
     "text": [
      "296 ns ± 10.5 ns per loop (mean ± std. dev. of 7 runs, 1,000,000 loops each)\n"
     ]
    }
   ],
   "source": [
    "%%timeit\n",
    "odd = []\n",
    "for i in range(10):\n",
    "    if i % 2 == 0:\n",
    "        continue\n",
    "    odd.append(i**2)\n",
    "odd"
   ]
  },
  {
   "cell_type": "code",
   "execution_count": 6,
   "id": "0a7ebc8e-fe81-48ca-a154-0c7cb7c4c3e5",
   "metadata": {},
   "outputs": [
    {
     "name": "stdout",
     "output_type": "stream",
     "text": [
      "260 ns ± 1.52 ns per loop (mean ± std. dev. of 7 runs, 1,000,000 loops each)\n"
     ]
    }
   ],
   "source": [
    "%%timeit\n",
    "odd = [i**2 for i in range(10) if i % 2 == 1]\n",
    "odd"
   ]
  },
  {
   "cell_type": "markdown",
   "id": "78d4926c-9cfb-4693-bb9e-49986b45a2b1",
   "metadata": {},
   "source": [
    "List comprehension was the faster of the two methods."
   ]
  },
  {
   "cell_type": "markdown",
   "id": "4a2c33a2-df25-41c7-b873-4ba2b2111757",
   "metadata": {},
   "source": [
    "# Exercise 4"
   ]
  },
  {
   "cell_type": "code",
   "execution_count": 14,
   "id": "083fe5c9-1915-42b4-8aae-c41ac6f3ca91",
   "metadata": {},
   "outputs": [
    {
     "name": "stdout",
     "output_type": "stream",
     "text": [
      "It takes 14 years.\n"
     ]
    }
   ],
   "source": [
    "substance = 100\n",
    "year = 0\n",
    "\n",
    "while substance > 50:\n",
    "    substance = substance * 95 / 100\n",
    "    year += 1\n",
    "print(f'It takes {year} years.')"
   ]
  },
  {
   "cell_type": "markdown",
   "id": "b7c8d5eb-e197-4677-bbd5-b80873d772da",
   "metadata": {},
   "source": [
    "# Exercise 5"
   ]
  },
  {
   "cell_type": "code",
   "execution_count": 24,
   "id": "1aae0d4f-d0b7-472e-8f78-4139a8061797",
   "metadata": {},
   "outputs": [
    {
     "name": "stdout",
     "output_type": "stream",
     "text": [
      "Year: 2016, Difference: 3.41\n"
     ]
    }
   ],
   "source": [
    "co2_data = [\n",
    "    (2000, 369.55), (2001, 371.14), (2002, 373.28), \n",
    "    (2003, 375.80), (2004, 377.52), (2005, 379.80), \n",
    "    (2006, 381.90), (2007, 383.79), (2008, 385.60), \n",
    "    (2009, 387.43), (2010, 389.90), (2011, 391.65), \n",
    "    (2012, 393.85), (2013, 396.52), (2014, 398.65),\n",
    "    (2015, 400.83), (2016, 404.24), (2017, 406.55), \n",
    "    (2018, 408.52), (2019, 411.44), (2020, 414.24)\n",
    "]\n",
    "\n",
    "for i in range(21):\n",
    "    diff = co2_data[i][1] - co2_data[i-1][1]\n",
    "    if diff > 3:\n",
    "        print(f'Year: {co2_data[i][0]}, Difference: {diff:.2f}')"
   ]
  }
 ],
 "metadata": {
  "kernelspec": {
   "display_name": "Python 3 (ipykernel)",
   "language": "python",
   "name": "python3"
  },
  "language_info": {
   "codemirror_mode": {
    "name": "ipython",
    "version": 3
   },
   "file_extension": ".py",
   "mimetype": "text/x-python",
   "name": "python",
   "nbconvert_exporter": "python",
   "pygments_lexer": "ipython3",
   "version": "3.13.5"
  },
  "toc": {
   "base_numbering": 1,
   "nav_menu": {},
   "number_sections": true,
   "sideBar": true,
   "skip_h1_title": false,
   "title_cell": "Table of Contents",
   "title_sidebar": "Contents",
   "toc_cell": false,
   "toc_position": {},
   "toc_section_display": true,
   "toc_window_display": false
  },
  "vscode": {
   "interpreter": {
    "hash": "31f2aee4e71d21fbe5cf8b01ff0e069b9275f58929596ceb00d14d90e3e16cd6"
   }
  }
 },
 "nbformat": 4,
 "nbformat_minor": 5
}
