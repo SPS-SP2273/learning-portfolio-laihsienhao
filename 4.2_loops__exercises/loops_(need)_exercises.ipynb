{
 "cells": [
  {
   "attachments": {},
   "cell_type": "markdown",
   "id": "123456",
   "metadata": {},
   "source": [
    "<div style=\"text-align:left;font-size:2em\"><span style=\"font-weight:bolder;font-size:1.25em\">SP2273 | Learning Portfolio</span><br><br><span style=\"font-weight:bold;color:darkred\">Loops (Need) Exercises</span></div>"
   ]
  },
  {
   "cell_type": "code",
   "execution_count": 28,
   "id": "66c63031-b52e-48fd-83a0-a3f36f26d0a5",
   "metadata": {},
   "outputs": [],
   "source": [
    "import numpy as np"
   ]
  },
  {
   "cell_type": "markdown",
   "id": "8d6b7a65-2e28-4801-926f-aac2e5cb9e9c",
   "metadata": {},
   "source": [
    "# Exercise 1"
   ]
  },
  {
   "cell_type": "code",
   "execution_count": 29,
   "id": "1ad2689f-9375-464d-96d5-68e7c60c2066",
   "metadata": {},
   "outputs": [
    {
     "name": "stdout",
     "output_type": "stream",
     "text": [
      "0 celsius is 32.0 fahrenheit.\n",
      "5 celsius is 41.0 fahrenheit.\n",
      "10 celsius is 50.0 fahrenheit.\n",
      "15 celsius is 59.0 fahrenheit.\n",
      "20 celsius is 68.0 fahrenheit.\n",
      "25 celsius is 77.0 fahrenheit.\n",
      "30 celsius is 86.0 fahrenheit.\n",
      "35 celsius is 95.0 fahrenheit.\n",
      "40 celsius is 104.0 fahrenheit.\n",
      "45 celsius is 113.0 fahrenheit.\n",
      "50 celsius is 122.0 fahrenheit.\n"
     ]
    }
   ],
   "source": [
    "temperatures_celsius = [\n",
    "    0, 5, 10, 15, 20, 25,\n",
    "    30, 35, 40, 45, 50\n",
    "]\n",
    "\n",
    "temperatures_fahrenheit = [(temperature * 9 / 5) + 32 for temperature in temperatures_celsius]\n",
    "for i in range(11):\n",
    "    print(f'{temperatures_celsius[i]} celsius is {temperatures_fahrenheit[i]} fahrenheit.')"
   ]
  },
  {
   "cell_type": "markdown",
   "id": "2026bd90-f22c-48c5-952b-f3529263e315",
   "metadata": {},
   "source": [
    "# Exercise 2"
   ]
  },
  {
   "cell_type": "code",
   "execution_count": 37,
   "id": "51465a2a-be46-4b56-8de1-78cf940d7d30",
   "metadata": {},
   "outputs": [
    {
     "name": "stdout",
     "output_type": "stream",
     "text": [
      "1 :\t1\t2\t3\t4\t5\t\n",
      "\n",
      "2 :\t2\t4\t6\t8\t10\t\n",
      "\n",
      "3 :\t3\t6\t9\t12\t15\t\n",
      "\n",
      "4 :\t4\t8\t12\t16\t20\t\n",
      "\n",
      "5 :\t5\t10\t15\t20\t25\t\n",
      "\n"
     ]
    }
   ],
   "source": [
    "for base in [1, 2, 3, 4, 5]:\n",
    "    print(f'{base} :', end='\\t')\n",
    "    for i in range (5):\n",
    "        print(f'{base * (i+1)}', end='\\t')\n",
    "    print('\\n')"
   ]
  },
  {
   "cell_type": "markdown",
   "id": "86cd5450-45dd-49fa-a496-b8871bff1f84",
   "metadata": {},
   "source": [
    "# Exercise 3"
   ]
  },
  {
   "cell_type": "code",
   "execution_count": 39,
   "id": "988b4ea8-63c8-4316-8bf0-3576d299c6bd",
   "metadata": {},
   "outputs": [
    {
     "name": "stdout",
     "output_type": "stream",
     "text": [
      "Experiment 1: No. of Heads = 5\n",
      "Experiment 2: No. of Heads = 5\n",
      "Experiment 3: No. of Heads = 2\n",
      "Experiment 4: No. of Heads = 7\n",
      "Experiment 5: No. of Heads = 5\n",
      "Experiment 6: No. of Heads = 6\n",
      "Experiment 7: No. of Heads = 6\n",
      "Experiment 8: No. of Heads = 4\n",
      "Experiment 9: No. of Heads = 6\n",
      "Experiment 10: No. of Heads = 7\n"
     ]
    }
   ],
   "source": [
    "for i in range(10):\n",
    "    heads = np.array([np.random.rand(10) >= 0.5]).sum()\n",
    "    print(f'Experiment {i+1}: No. of Heads = {heads}')"
   ]
  }
 ],
 "metadata": {
  "kernelspec": {
   "display_name": "Python 3 (ipykernel)",
   "language": "python",
   "name": "python3"
  },
  "language_info": {
   "codemirror_mode": {
    "name": "ipython",
    "version": 3
   },
   "file_extension": ".py",
   "mimetype": "text/x-python",
   "name": "python",
   "nbconvert_exporter": "python",
   "pygments_lexer": "ipython3",
   "version": "3.13.5"
  },
  "toc": {
   "base_numbering": 1,
   "nav_menu": {},
   "number_sections": true,
   "sideBar": true,
   "skip_h1_title": false,
   "title_cell": "Table of Contents",
   "title_sidebar": "Contents",
   "toc_cell": false,
   "toc_position": {},
   "toc_section_display": true,
   "toc_window_display": false
  },
  "vscode": {
   "interpreter": {
    "hash": "31f2aee4e71d21fbe5cf8b01ff0e069b9275f58929596ceb00d14d90e3e16cd6"
   }
  }
 },
 "nbformat": 4,
 "nbformat_minor": 5
}
